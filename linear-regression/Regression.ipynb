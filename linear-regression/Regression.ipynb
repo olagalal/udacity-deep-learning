{
 "cells": [
  {
   "cell_type": "markdown",
   "metadata": {},
   "source": [
    "# Lab: Predicting Life Expectancy from BMI in Countries using Linear Regression\n",
    "\n",
    "\n",
    "In this lab, you'll be working with data on the average life expectancy at birth and the average BMI for males across the world. The data comes from [Gapminder](https://www.gapminder.org/).\n",
    "\n",
    "The data file can be found in the \"bmi_and_life_expectancy.csv\" file. It includes three columns, containing the following data:\n",
    "* **Country** – The country the person was born in.  \n",
    "* **Life expectancy** – The average life expectancy at birth for a person in that country.\n",
    "* **BMI** – The mean BMI of males in that country.\n",
    "\n",
    "### You'll need to complete each of the following steps:\n",
    "\n",
    "**1. Load the data**\n",
    "\n",
    "**2. Build a linear regression model**\n",
    "\n",
    "**3. Predict using the model**"
   ]
  },
  {
   "cell_type": "markdown",
   "metadata": {},
   "source": [
    "# 1. Load and plot the data\n",
    "* The data is in the file called \"bmi_and_life_expectancy.csv\".\n",
    "* Use pandas [`read_csv`](http://pandas.pydata.org/pandas-docs/stable/generated/pandas.read_csv.html) to load the data into a dataframe.\n",
    "* Assign the dataframe to the variable `bmi_life_data`.\n"
   ]
  },
  {
   "cell_type": "code",
   "execution_count": 1,
   "metadata": {},
   "outputs": [],
   "source": [
    "import numpy as np\n",
    "import pandas as pd"
   ]
  },
  {
   "cell_type": "code",
   "execution_count": 2,
   "metadata": {},
   "outputs": [
    {
     "data": {
      "text/html": [
       "<div>\n",
       "<style scoped>\n",
       "    .dataframe tbody tr th:only-of-type {\n",
       "        vertical-align: middle;\n",
       "    }\n",
       "\n",
       "    .dataframe tbody tr th {\n",
       "        vertical-align: top;\n",
       "    }\n",
       "\n",
       "    .dataframe thead th {\n",
       "        text-align: right;\n",
       "    }\n",
       "</style>\n",
       "<table border=\"1\" class=\"dataframe\">\n",
       "  <thead>\n",
       "    <tr style=\"text-align: right;\">\n",
       "      <th></th>\n",
       "      <th>Country</th>\n",
       "      <th>Life expectancy</th>\n",
       "      <th>BMI</th>\n",
       "    </tr>\n",
       "  </thead>\n",
       "  <tbody>\n",
       "    <tr>\n",
       "      <th>0</th>\n",
       "      <td>Afghanistan</td>\n",
       "      <td>52.8</td>\n",
       "      <td>20.62058</td>\n",
       "    </tr>\n",
       "    <tr>\n",
       "      <th>1</th>\n",
       "      <td>Albania</td>\n",
       "      <td>76.8</td>\n",
       "      <td>26.44657</td>\n",
       "    </tr>\n",
       "    <tr>\n",
       "      <th>2</th>\n",
       "      <td>Algeria</td>\n",
       "      <td>75.5</td>\n",
       "      <td>24.59620</td>\n",
       "    </tr>\n",
       "    <tr>\n",
       "      <th>3</th>\n",
       "      <td>Andorra</td>\n",
       "      <td>84.6</td>\n",
       "      <td>27.63048</td>\n",
       "    </tr>\n",
       "    <tr>\n",
       "      <th>4</th>\n",
       "      <td>Angola</td>\n",
       "      <td>56.7</td>\n",
       "      <td>22.25083</td>\n",
       "    </tr>\n",
       "    <tr>\n",
       "      <th>...</th>\n",
       "      <td>...</td>\n",
       "      <td>...</td>\n",
       "      <td>...</td>\n",
       "    </tr>\n",
       "    <tr>\n",
       "      <th>158</th>\n",
       "      <td>Vanuatu</td>\n",
       "      <td>63.4</td>\n",
       "      <td>26.78926</td>\n",
       "    </tr>\n",
       "    <tr>\n",
       "      <th>159</th>\n",
       "      <td>West Bank and Gaza</td>\n",
       "      <td>74.1</td>\n",
       "      <td>26.57750</td>\n",
       "    </tr>\n",
       "    <tr>\n",
       "      <th>160</th>\n",
       "      <td>Vietnam</td>\n",
       "      <td>74.1</td>\n",
       "      <td>20.91630</td>\n",
       "    </tr>\n",
       "    <tr>\n",
       "      <th>161</th>\n",
       "      <td>Zambia</td>\n",
       "      <td>51.1</td>\n",
       "      <td>20.68321</td>\n",
       "    </tr>\n",
       "    <tr>\n",
       "      <th>162</th>\n",
       "      <td>Zimbabwe</td>\n",
       "      <td>47.3</td>\n",
       "      <td>22.02660</td>\n",
       "    </tr>\n",
       "  </tbody>\n",
       "</table>\n",
       "<p>163 rows × 3 columns</p>\n",
       "</div>"
      ],
      "text/plain": [
       "                Country  Life expectancy       BMI\n",
       "0           Afghanistan             52.8  20.62058\n",
       "1               Albania             76.8  26.44657\n",
       "2               Algeria             75.5  24.59620\n",
       "3               Andorra             84.6  27.63048\n",
       "4                Angola             56.7  22.25083\n",
       "..                  ...              ...       ...\n",
       "158             Vanuatu             63.4  26.78926\n",
       "159  West Bank and Gaza             74.1  26.57750\n",
       "160             Vietnam             74.1  20.91630\n",
       "161              Zambia             51.1  20.68321\n",
       "162            Zimbabwe             47.3  22.02660\n",
       "\n",
       "[163 rows x 3 columns]"
      ]
     },
     "execution_count": 2,
     "metadata": {},
     "output_type": "execute_result"
    }
   ],
   "source": [
    "# TODO: Load the data in Pandas\n",
    "\n",
    "bmi_life_data = pd.read_csv('bmi_and_life_expectancy.csv')\n",
    "\n",
    "# Print the data\n",
    "bmi_life_data"
   ]
  },
  {
   "cell_type": "markdown",
   "metadata": {},
   "source": [
    "Some helper functions:\n",
    "- One to plot the data.\n",
    "- One to plot any line, given the slope $m$ and the y-intercept $b$."
   ]
  },
  {
   "cell_type": "code",
   "execution_count": 3,
   "metadata": {},
   "outputs": [],
   "source": [
    "import matplotlib.pyplot as plt\n",
    "\n",
    "x = np.array(bmi_life_data[[\"BMI\"]])\n",
    "y = np.array(bmi_life_data[\"Life expectancy\"])\n",
    "\n",
    "def draw_data(x, y):\n",
    "    for i in range(len(x)):\n",
    "        plt.scatter(x[i], y[i], color='blue', edgecolor='k')\n",
    "    plt.xlabel('BMI')\n",
    "    plt.ylabel('Life expectancy')\n",
    "\n",
    "def display(m, b, color='g'):\n",
    "    r = np.arange(min(x), max(x), 0.1)\n",
    "    plt.plot(r, m*r+b, color)"
   ]
  },
  {
   "cell_type": "markdown",
   "metadata": {},
   "source": [
    "Plotting the data"
   ]
  },
  {
   "cell_type": "code",
   "execution_count": 4,
   "metadata": {},
   "outputs": [
    {
     "data": {
      "image/png": "[encoded data removed]",
      "text/plain": [
       "<Figure size 432x288 with 1 Axes>"
      ]
     },
     "metadata": {
      "needs_background": "light"
     },
     "output_type": "display_data"
    }
   ],
   "source": [
    "draw_data(x, y)\n",
    "plt.show()"
   ]
  },
  {
   "cell_type": "markdown",
   "metadata": {},
   "source": [
    "# 2. Build a Linear Regression Model\n",
    "* Create a regression model and assign the weights to the array `bmi_life_model`.\n",
    "* Fit the model to the data."
   ]
  },
  {
   "cell_type": "code",
   "execution_count": 5,
   "metadata": {},
   "outputs": [],
   "source": [
    "epochs = 1000\n",
    "learning_rate = 0.001\n",
    "\n",
    "# TODO: Finish the code for this function\n",
    "def linear_regression(x, y):\n",
    "    m=1\n",
    "    b=0\n",
    "    for epoch in range(epochs):\n",
    "        for i in range(len(x)):\n",
    "            pred = m*x[i] + b\n",
    "            diff = y[i] - pred\n",
    "            m += m*diff*learning_rate\n",
    "            b += diff*learning_rate\n",
    "    return m, b\n",
    "m, b = linear_regression(x, y)"
   ]
  },
  {
   "cell_type": "code",
   "execution_count": 6,
   "metadata": {},
   "outputs": [
    {
     "data": {
      "image/png": "[encoded data removed]",
      "text/plain": [
       "<Figure size 432x288 with 1 Axes>"
      ]
     },
     "metadata": {
      "needs_background": "light"
     },
     "output_type": "display_data"
    }
   ],
   "source": [
    "linear_regression(x,y)\n",
    "draw_data(x, y)\n",
    "display(m[0], b[0])\n",
    "plt.show()"
   ]
  },
  {
   "cell_type": "markdown",
   "metadata": {},
   "source": [
    "# 3. Predict using the Model\n",
    "* Predict using a BMI of 21.07931 and assign it to the variable `laos_life_exp`."
   ]
  },
  {
   "cell_type": "code",
   "execution_count": 8,
   "metadata": {},
   "outputs": [
    {
     "data": {
      "text/plain": [
       "58.53432141755397"
      ]
     },
     "execution_count": 8,
     "metadata": {},
     "output_type": "execute_result"
    }
   ],
   "source": [
    "# TODO: Write the prediction function\n",
    "def predict(m, b, bmi):\n",
    "    return m[0]*bmi + b[0]\n",
    "\n",
    "m, b = linear_regression(x, y)\n",
    "predict(m, b, 21.07931)"
   ]
  },
  {
   "cell_type": "code",
   "execution_count": null,
   "metadata": {
    "collapsed": true
   },
   "outputs": [],
   "source": []
  }
 ],
 "metadata": {
  "kernelspec": {
   "display_name": "Python 3",
   "language": "python",
   "name": "python3"
  },
  "language_info": {
   "codemirror_mode": {
    "name": "ipython",
    "version": 3
   },
   "file_extension": ".py",
   "mimetype": "text/x-python",
   "name": "python",
   "nbconvert_exporter": "python",
   "pygments_lexer": "ipython3",
   "version": "3.6.13"
  }
 },
 "nbformat": 4,
 "nbformat_minor": 2
}
