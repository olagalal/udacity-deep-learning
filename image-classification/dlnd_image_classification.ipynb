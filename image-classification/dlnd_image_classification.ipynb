{
 "cells": [
  {
   "cell_type": "markdown",
   "metadata": {
    "collapsed": true
   },
   "source": [
    "# Image Classification\n",
    "In this project, you'll classify images from the [CIFAR-10 dataset](https://www.cs.toronto.edu/~kriz/cifar.html).  The dataset consists of airplanes, dogs, cats, and other objects. You'll preprocess the images, then train a convolutional neural network on all the samples. The images need to be normalized and the labels need to be one-hot encoded.  You'll get to apply what you learned and build a convolutional, max pooling, dropout, and fully connected layers.  At the end, you'll get to see your neural network's predictions on the sample images.\n",
    "## Get the Data\n",
    "Run the following cell to download the [CIFAR-10 dataset for python](https://www.cs.toronto.edu/~kriz/cifar-10-python.tar.gz)."
   ]
  },
  {
   "cell_type": "code",
   "execution_count": 6,
   "metadata": {},
   "outputs": [],
   "source": [
    "\"\"\"\n",
    "DON'T MODIFY ANYTHING IN THIS CELL THAT IS BELOW THIS LINE\n",
    "\"\"\"\n",
    "from urllib.request import urlretrieve\n",
    "from os.path import isfile, isdir\n",
    "from tqdm import tqdm\n",
    "import problem_unittests as tests\n",
    "import tarfile\n",
    "\n",
    "cifar10_dataset_folder_path = 'cifar-10-batches-py'\n",
    "\n",
    "# Use Floyd's cifar-10 dataset if present\n",
    "floyd_cifar10_location = '/cifar/cifar-10-python.tar.gz'\n",
    "if isfile(floyd_cifar10_location):\n",
    "    tar_gz_path = floyd_cifar10_location\n",
    "else:\n",
    "    tar_gz_path = 'cifar-10-python.tar.gz'\n",
    "\n",
    "class DLProgress(tqdm):\n",
    "    last_block = 0\n",
    "\n",
    "    def hook(self, block_num=1, block_size=1, total_size=None):\n",
    "        self.total = total_size\n",
    "        self.update((block_num - self.last_block) * block_size)\n",
    "        self.last_block = block_num\n",
    "\n",
    "if not isfile(tar_gz_path):\n",
    "    with DLProgress(unit='B', unit_scale=True, miniters=1, desc='CIFAR-10 Dataset') as pbar:\n",
    "        urlretrieve(\n",
    "            'https://www.cs.toronto.edu/~kriz/cifar-10-python.tar.gz',\n",
    "            tar_gz_path,\n",
    "            pbar.hook)\n",
    "\n",
    "if not isdir(cifar10_dataset_folder_path):\n",
    "    with tarfile.open(tar_gz_path) as tar:\n",
    "        tar.extractall()\n",
    "        tar.close()"
   ]
  },
  {
   "cell_type": "code",
   "execution_count": 8,
   "metadata": {},
   "outputs": [
    {
     "name": "stdout",
     "output_type": "stream",
     "text": [
      "All files found!\n"
     ]
    }
   ],
   "source": [
    "tests.test_folder_path(cifar10_dataset_folder_path)"
   ]
  },
  {
   "cell_type": "markdown",
   "metadata": {},
   "source": [
    "## Explore the Data\n",
    "The dataset is broken into batches to prevent your machine from running out of memory.  The CIFAR-10 dataset consists of 5 batches, named `data_batch_1`, `data_batch_2`, etc.. Each batch contains the labels and images that are one of the following:\n",
    "* airplane\n",
    "* automobile\n",
    "* bird\n",
    "* cat\n",
    "* deer\n",
    "* dog\n",
    "* frog\n",
    "* horse\n",
    "* ship\n",
    "* truck\n",
    "\n",
    "Understanding a dataset is part of making predictions on the data.  Play around with the code cell below by changing the `batch_id` and `sample_id`. The `batch_id` is the id for a batch (1-5). The `sample_id` is the id for a image and label pair in the batch.\n",
    "\n",
    "Ask yourself \"What are all possible labels?\", \"What is the range of values for the image data?\", \"Are the labels in order or random?\".  Answers to questions like these will help you preprocess the data and end up with better predictions."
   ]
  },
  {
   "cell_type": "code",
   "execution_count": 9,
   "metadata": {},
   "outputs": [
    {
     "name": "stdout",
     "output_type": "stream",
     "text": [
      "\n",
      "Stats of batch 1:\n",
      "Samples: 10000\n",
      "Label Counts: {0: 1005, 1: 974, 2: 1032, 3: 1016, 4: 999, 5: 937, 6: 1030, 7: 1001, 8: 1025, 9: 981}\n",
      "First 20 Labels: [6, 9, 9, 4, 1, 1, 2, 7, 8, 3, 4, 7, 7, 2, 9, 9, 9, 3, 2, 6]\n",
      "\n",
      "Example of Image 5:\n",
      "Image - Min Value: 0 Max Value: 252\n",
      "Image - Shape: (32, 32, 3)\n",
      "Label - Label Id: 1 Name: automobile\n"
     ]
    },
    {
     "data": {
      "image/png": "[encoded data removed]",
      "text/plain": [
       "<Figure size 432x288 with 1 Axes>"
      ]
     },
     "metadata": {
      "image/png": {
       "height": 231,
       "width": 231
      },
      "needs_background": "light"
     },
     "output_type": "display_data"
    }
   ],
   "source": [
    "%matplotlib inline\n",
    "%config InlineBackend.figure_format = 'retina'\n",
    "\n",
    "import helper\n",
    "import numpy as np\n",
    "\n",
    "# Explore the dataset\n",
    "batch_id = 1\n",
    "sample_id = 5\n",
    "helper.display_stats(cifar10_dataset_folder_path, batch_id, sample_id)"
   ]
  },
  {
   "cell_type": "markdown",
   "metadata": {},
   "source": [
    "## Implement Preprocess Functions\n",
    "### Normalize\n",
    "In the cell below, implement the `normalize` function to take in image data, `x`, and return it as a normalized Numpy array. The values should be in the range of 0 to 1, inclusive.  The return object should be the same shape as `x`."
   ]
  },
  {
   "cell_type": "code",
   "execution_count": 12,
   "metadata": {},
   "outputs": [
    {
     "name": "stdout",
     "output_type": "stream",
     "text": [
      "Tests Passed\n"
     ]
    }
   ],
   "source": [
    "def normalize(x):\n",
    "    \"\"\"\n",
    "    Normalize a list of sample image data in the range of 0 to 1\n",
    "    : x: List of image data.  The image shape is (32, 32, 3)\n",
    "    : return: Numpy array of normalize data\n",
    "    \"\"\"\n",
    "    \n",
    "    # Definine the max and min values of the image (faster this way than looking for them inside the array)\n",
    "    xMin = 0\n",
    "    xMax = 255\n",
    "    # Define the new max and min values\n",
    "    nMax = 1\n",
    "    nMin = 0\n",
    "    # Convert the input to a numpy array\n",
    "    x_np = np.array(x)\n",
    "    # Apply transform\n",
    "    x_np = (x_np - xMin)*(nMax - nMin)/(xMax - xMin) + nMin\n",
    "    return x_np\n",
    "\n",
    "\"\"\"\n",
    "DON'T MODIFY ANYTHING IN THIS CELL THAT IS BELOW THIS LINE\n",
    "\"\"\"\n",
    "tests.test_normalize(normalize)"
   ]
  },
  {
   "cell_type": "markdown",
   "metadata": {},
   "source": [
    "### One-hot encode\n",
    "Just like the previous code cell, you'll be implementing a function for preprocessing.  This time, you'll implement the `one_hot_encode` function. The input, `x`, are a list of labels.  Implement the function to return the list of labels as One-Hot encoded Numpy array.  The possible values for labels are 0 to 9. The one-hot encoding function should return the same encoding for each value between each call to `one_hot_encode`.  Make sure to save the map of encodings outside the function.\n",
    "\n",
    "Hint: Don't reinvent the wheel."
   ]
  },
  {
   "cell_type": "code",
   "execution_count": 14,
   "metadata": {},
   "outputs": [
    {
     "name": "stdout",
     "output_type": "stream",
     "text": [
      "Tests Passed\n"
     ]
    }
   ],
   "source": [
    "from sklearn.preprocessing import LabelBinarizer \n",
    "\n",
    "def one_hot_encode(x):\n",
    "    \"\"\"\n",
    "    One hot encode a list of sample labels. Return a one-hot encoded vector for each label.\n",
    "    : x: List of sample Labels\n",
    "    : return: Numpy array of one-hot encoded labels\n",
    "    \"\"\"\n",
    "    # The size of the vector to one encode\n",
    "    encoding_size = 10\n",
    "    # Use the sklearn library to one encode our incoming vector (taking it outside the function \n",
    "    # can be more efficient)\n",
    "    encoder = LabelBinarizer().fit(np.arange(encoding_size, dtype=np.float32))\n",
    "    return encoder.transform(x)\n",
    "\n",
    "\"\"\"\n",
    "DON'T MODIFY ANYTHING IN THIS CELL THAT IS BELOW THIS LINE\n",
    "\"\"\"\n",
    "tests.test_one_hot_encode(one_hot_encode)"
   ]
  },
  {
   "cell_type": "markdown",
   "metadata": {},
   "source": [
    "### Randomize Data\n",
    "As you saw from exploring the data above, the order of the samples are randomized.  It doesn't hurt to randomize it again, but you don't need to for this dataset."
   ]
  },
  {
   "cell_type": "markdown",
   "metadata": {},
   "source": [
    "## Preprocess all the data and save it\n",
    "Running the code cell below will preprocess all the CIFAR-10 data and save it to file. The code below also uses 10% of the training data for validation."
   ]
  },
  {
   "cell_type": "code",
   "execution_count": 15,
   "metadata": {},
   "outputs": [],
   "source": [
    "\"\"\"\n",
    "DON'T MODIFY ANYTHING IN THIS CELL\n",
    "\"\"\"\n",
    "# Preprocess Training, Validation, and Testing Data\n",
    "helper.preprocess_and_save_data(cifar10_dataset_folder_path, normalize, one_hot_encode)"
   ]
  },
  {
   "cell_type": "markdown",
   "metadata": {},
   "source": [
    "# Check Point\n",
    "This is your first checkpoint.  If you ever decide to come back to this notebook or have to restart the notebook, you can start from here.  The preprocessed data has been saved to disk."
   ]
  },
  {
   "cell_type": "code",
   "execution_count": 16,
   "metadata": {},
   "outputs": [],
   "source": [
    "\"\"\"\n",
    "DON'T MODIFY ANYTHING IN THIS CELL\n",
    "\"\"\"\n",
    "import pickle\n",
    "import problem_unittests as tests\n",
    "import helper\n",
    "\n",
    "# Load the Preprocessed Validation data\n",
    "valid_features, valid_labels = pickle.load(open('preprocess_validation.p', mode='rb'))"
   ]
  },
  {
   "cell_type": "markdown",
   "metadata": {},
   "source": [
    "## Build the network\n",
    "For the neural network, you'll build each layer into a function.  Most of the code you've seen has been outside of functions. To test your code more thoroughly, we require that you put each layer in a function.  This allows us to give you better feedback and test for simple mistakes using our unittests before you submit your project.\n",
    "\n",
    ">**Note:** If you're finding it hard to dedicate enough time for this course each week, we've provided a small shortcut to this part of the project. In the next couple of problems, you'll have the option to use classes from the [TensorFlow Layers](https://www.tensorflow.org/api_docs/python/tf/layers) or [TensorFlow Layers (contrib)](https://www.tensorflow.org/api_guides/python/contrib.layers) packages to build each layer, except the layers you build in the \"Convolutional and Max Pooling Layer\" section.  TF Layers is similar to Keras's and TFLearn's abstraction to layers, so it's easy to pickup.\n",
    "\n",
    ">However, if you would like to get the most out of this course, try to solve all the problems _without_ using anything from the TF Layers packages. You **can** still use classes from other packages that happen to have the same name as ones you find in TF Layers! For example, instead of using the TF Layers version of the `conv2d` class, [tf.layers.conv2d](https://www.tensorflow.org/api_docs/python/tf/layers/conv2d), you would want to use the TF Neural Network version of `conv2d`, [tf.nn.conv2d](https://www.tensorflow.org/api_docs/python/tf/nn/conv2d). \n",
    "\n",
    "Let's begin!\n",
    "\n",
    "### Input\n",
    "The neural network needs to read the image data, one-hot encoded labels, and dropout keep probability. Implement the following functions\n",
    "* Implement `neural_net_image_input`\n",
    " * Return a [TF Placeholder](https://www.tensorflow.org/api_docs/python/tf/placeholder)\n",
    " * Set the shape using `image_shape` with batch size set to `None`.\n",
    " * Name the TensorFlow placeholder \"x\" using the TensorFlow `name` parameter in the [TF Placeholder](https://www.tensorflow.org/api_docs/python/tf/placeholder).\n",
    "* Implement `neural_net_label_input`\n",
    " * Return a [TF Placeholder](https://www.tensorflow.org/api_docs/python/tf/placeholder)\n",
    " * Set the shape using `n_classes` with batch size set to `None`.\n",
    " * Name the TensorFlow placeholder \"y\" using the TensorFlow `name` parameter in the [TF Placeholder](https://www.tensorflow.org/api_docs/python/tf/placeholder).\n",
    "* Implement `neural_net_keep_prob_input`\n",
    " * Return a [TF Placeholder](https://www.tensorflow.org/api_docs/python/tf/placeholder) for dropout keep probability.\n",
    " * Name the TensorFlow placeholder \"keep_prob\" using the TensorFlow `name` parameter in the [TF Placeholder](https://www.tensorflow.org/api_docs/python/tf/placeholder).\n",
    "\n",
    "These names will be used at the end of the project to load your saved model.\n",
    "\n",
    "Note: `None` for shapes in TensorFlow allow for a dynamic size."
   ]
  },
  {
   "cell_type": "code",
   "execution_count": 17,
   "metadata": {},
   "outputs": [
    {
     "name": "stdout",
     "output_type": "stream",
     "text": [
      "Image Input Tests Passed.\n",
      "Label Input Tests Passed.\n",
      "Keep Prob Tests Passed.\n"
     ]
    }
   ],
   "source": [
    "import tensorflow as tf\n",
    "\n",
    "def neural_net_image_input(image_shape):\n",
    "    \"\"\"\n",
    "    Return a Tensor for a batch of image input\n",
    "    : image_shape: Shape of the images\n",
    "    : return: Tensor for image input.\n",
    "    \"\"\"\n",
    "    return tf.placeholder(tf.float32, shape=[None, image_shape[0], image_shape[1], image_shape[2]], name='x')\n",
    "\n",
    "def neural_net_label_input(n_classes):\n",
    "    \"\"\"\n",
    "    Return a Tensor for a batch of label input\n",
    "    : n_classes: Number of classes\n",
    "    : return: Tensor for label input.\n",
    "    \"\"\"\n",
    "    return tf.placeholder(tf.float32, shape=[None, n_classes], name='y')\n",
    "\n",
    "def neural_net_keep_prob_input():\n",
    "    \"\"\"\n",
    "    Return a Tensor for keep probability\n",
    "    : return: Tensor for keep probability.\n",
    "    \"\"\"\n",
    "    return tf.placeholder(tf.float32, name='keep_prob')\n",
    "\n",
    "\"\"\"\n",
    "DON'T MODIFY ANYTHING IN THIS CELL THAT IS BELOW THIS LINE\n",
    "\"\"\"\n",
    "tf.reset_default_graph()\n",
    "tests.test_nn_image_inputs(neural_net_image_input)\n",
    "tests.test_nn_label_inputs(neural_net_label_input)\n",
    "tests.test_nn_keep_prob_inputs(neural_net_keep_prob_input)"
   ]
  },
  {
   "cell_type": "markdown",
   "metadata": {},
   "source": [
    "### Convolution and Max Pooling Layer\n",
    "Convolution layers have a lot of success with images. For this code cell, you should implement the function `conv2d_maxpool` to apply convolution then max pooling:\n",
    "* Create the weight and bias using `conv_ksize`, `conv_num_outputs` and the shape of `x_tensor`.\n",
    "* Apply a convolution to `x_tensor` using weight and `conv_strides`.\n",
    " * We recommend you use same padding, but you're welcome to use any padding.\n",
    "* Add bias\n",
    "* Add a nonlinear activation to the convolution.\n",
    "* Apply Max Pooling using `pool_ksize` and `pool_strides`.\n",
    " * We recommend you use same padding, but you're welcome to use any padding.\n",
    "\n",
    "**Note:** You **can't** use [TensorFlow Layers](https://www.tensorflow.org/api_docs/python/tf/layers) or [TensorFlow Layers (contrib)](https://www.tensorflow.org/api_guides/python/contrib.layers) for **this** layer, but you can still use TensorFlow's [Neural Network](https://www.tensorflow.org/api_docs/python/tf/nn) package. You may still use the shortcut option for all the **other** layers."
   ]
  },
  {
   "cell_type": "code",
   "execution_count": 18,
   "metadata": {},
   "outputs": [
    {
     "name": "stdout",
     "output_type": "stream",
     "text": [
      "Tests Passed\n"
     ]
    }
   ],
   "source": [
    "def conv2d_maxpool(x_tensor, conv_num_outputs, conv_ksize, conv_strides, pool_ksize, pool_strides):\n",
    "    \"\"\"\n",
    "    Apply convolution then max pooling to x_tensor\n",
    "    :param x_tensor: TensorFlow Tensor\n",
    "    :param conv_num_outputs: Number of outputs for the convolutional layer\n",
    "    :param conv_ksize: kernal size 2-D Tuple for the convolutional layer\n",
    "    :param conv_strides: Stride 2-D Tuple for convolution\n",
    "    :param pool_ksize: kernal size 2-D Tuple for pool\n",
    "    :param pool_strides: Stride 2-D Tuple for pool\n",
    "    : return: A tensor that represents convolution and max pooling of x_tensor\n",
    "    \"\"\"\n",
    "    # Grab the shape for the input tensor\n",
    "    iheight = int(x_tensor.shape[1])\n",
    "    iwidth = int(x_tensor.shape[2])\n",
    "    idepth = int(x_tensor.shape[3])\n",
    "    # Grab the shape for the convolutional filter (kernel)\n",
    "    fheight = conv_ksize[0]\n",
    "    fwidth = conv_ksize[1]\n",
    "    # Define the padding, lets leave it in Same for now\n",
    "    padding = 'SAME'\n",
    "    # Create the strides vector for the convolution\n",
    "    conv_strides_vector = [1, conv_strides[0], conv_strides[1], 1]\n",
    "    # Create the pooling size vector\n",
    "    pool_ksize_vector = [1, pool_ksize[0], pool_ksize[1], 1]\n",
    "    # Create the pooling strides vector\n",
    "    pool_strides_vector = [1, pool_strides[0], pool_strides[1], 1]\n",
    "    # Initialize the weights of the filter to be from a truncated distribution\n",
    "    filter_weigths = tf.Variable(tf.truncated_normal(shape=[fheight, fwidth, idepth, conv_num_outputs], stddev=0.05))\n",
    "    # Add the bias\n",
    "    filter_bias = tf.Variable(tf.zeros(conv_num_outputs))\n",
    "    # Create the convolution layer\n",
    "    conv_layer = tf.nn.conv2d(x_tensor, filter_weigths, strides=conv_strides_vector, padding=padding)\n",
    "    # Add the bias\n",
    "    conv_layer = tf.nn.bias_add(conv_layer, filter_bias)\n",
    "    # Apply the non linearity\n",
    "    conv_layer = tf.nn.relu(conv_layer)\n",
    "    # Add The maxpooling layer\n",
    "    conv_layer = tf.nn.max_pool(conv_layer, ksize=pool_ksize_vector, strides=pool_strides_vector, padding=padding)\n",
    "    return conv_layer \n",
    "\n",
    "\n",
    "\"\"\"\n",
    "DON'T MODIFY ANYTHING IN THIS CELL THAT IS BELOW THIS LINE\n",
    "\"\"\"\n",
    "tests.test_con_pool(conv2d_maxpool)"
   ]
  },
  {
   "cell_type": "markdown",
   "metadata": {},
   "source": [
    "### Flatten Layer\n",
    "Implement the `flatten` function to change the dimension of `x_tensor` from a 4-D tensor to a 2-D tensor.  The output should be the shape (*Batch Size*, *Flattened Image Size*). Shortcut option: you can use classes from the [TensorFlow Layers](https://www.tensorflow.org/api_docs/python/tf/layers) or [TensorFlow Layers (contrib)](https://www.tensorflow.org/api_guides/python/contrib.layers) packages for this layer. For more of a challenge, only use other TensorFlow packages."
   ]
  },
  {
   "cell_type": "code",
   "execution_count": 19,
   "metadata": {},
   "outputs": [
    {
     "name": "stdout",
     "output_type": "stream",
     "text": [
      "Tests Passed\n"
     ]
    }
   ],
   "source": [
    "def flatten(x_tensor):\n",
    "    \"\"\"\n",
    "    Flatten x_tensor to (Batch Size, Flattened Image Size)\n",
    "    : x_tensor: A tensor of size (Batch Size, ...), where ... are the image dimensions.\n",
    "    : return: A tensor of size (Batch Size, Flattened Image Size).\n",
    "    \"\"\"\n",
    "    # Grab the shape for the input tensor\n",
    "    iheight = int(x_tensor.shape[1])\n",
    "    iwidth = int(x_tensor.shape[2])\n",
    "    idepth = int(x_tensor.shape[3])\n",
    "    # Calculate the size of the flattened image\n",
    "    flattened = iheight*iwidth*idepth\n",
    "    # reshape the 4d tensor to a 2d tensor\n",
    "    return tf.reshape(x_tensor,[-1, flattened])\n",
    "\n",
    "\n",
    "\"\"\"\n",
    "DON'T MODIFY ANYTHING IN THIS CELL THAT IS BELOW THIS LINE\n",
    "\"\"\"\n",
    "tests.test_flatten(flatten)"
   ]
  },
  {
   "cell_type": "markdown",
   "metadata": {},
   "source": [
    "### Fully-Connected Layer\n",
    "Implement the `fully_conn` function to apply a fully connected layer to `x_tensor` with the shape (*Batch Size*, *num_outputs*). Shortcut option: you can use classes from the [TensorFlow Layers](https://www.tensorflow.org/api_docs/python/tf/layers) or [TensorFlow Layers (contrib)](https://www.tensorflow.org/api_guides/python/contrib.layers) packages for this layer. For more of a challenge, only use other TensorFlow packages."
   ]
  },
  {
   "cell_type": "code",
   "execution_count": 20,
   "metadata": {},
   "outputs": [
    {
     "name": "stdout",
     "output_type": "stream",
     "text": [
      "Tests Passed\n"
     ]
    }
   ],
   "source": [
    "def fully_conn(x_tensor, num_outputs):\n",
    "    \"\"\"\n",
    "    Apply a fully connected layer to x_tensor using weight and bias\n",
    "    : x_tensor: A 2-D tensor where the first dimension is batch size.\n",
    "    : num_outputs: The number of output that the new tensor should be.\n",
    "    : return: A 2-D tensor where the second dimension is num_outputs.\n",
    "    \"\"\"\n",
    "    # Get the width of the inputs\n",
    "    iwidth = int(x_tensor.get_shape()[1])\n",
    "    # Initialize the weights of the fully connected layer\n",
    "    layer_weigths = tf.Variable(tf.truncated_normal(shape=[iwidth, num_outputs], stddev=0.05))\n",
    "    #Initialize the biases to be zero for the fully connected layer\n",
    "    layer_bias = tf.Variable(tf.zeros(num_outputs))\n",
    "    # Define the layer's output\n",
    "    layer_out = tf.nn.relu(tf.add(tf.matmul(x_tensor, layer_weigths), layer_bias))\n",
    "    return layer_out\n",
    "\n",
    "\n",
    "\"\"\"\n",
    "DON'T MODIFY ANYTHING IN THIS CELL THAT IS BELOW THIS LINE\n",
    "\"\"\"\n",
    "tests.test_fully_conn(fully_conn)"
   ]
  },
  {
   "cell_type": "markdown",
   "metadata": {},
   "source": [
    "### Output Layer\n",
    "Implement the `output` function to apply a fully connected layer to `x_tensor` with the shape (*Batch Size*, *num_outputs*). Shortcut option: you can use classes from the [TensorFlow Layers](https://www.tensorflow.org/api_docs/python/tf/layers) or [TensorFlow Layers (contrib)](https://www.tensorflow.org/api_guides/python/contrib.layers) packages for this layer. For more of a challenge, only use other TensorFlow packages.\n",
    "\n",
    "**Note:** Activation, softmax, or cross entropy should **not** be applied to this."
   ]
  },
  {
   "cell_type": "code",
   "execution_count": 21,
   "metadata": {},
   "outputs": [
    {
     "name": "stdout",
     "output_type": "stream",
     "text": [
      "Tests Passed\n"
     ]
    }
   ],
   "source": [
    "def output(x_tensor, num_outputs):\n",
    "    \"\"\"\n",
    "    Apply a output layer to x_tensor using weight and bias\n",
    "    : x_tensor: A 2-D tensor where the first dimension is batch size.\n",
    "    : num_outputs: The number of output that the new tensor should be.\n",
    "    : return: A 2-D tensor where the second dimension is num_outputs.\n",
    "    \"\"\"\n",
    "    # Get the width of the inputs\n",
    "    iwidth = int(x_tensor.get_shape()[1])\n",
    "    # Initialize the weights of the fully connected layer\n",
    "    layer_weigths = tf.Variable(tf.truncated_normal(shape=[iwidth, num_outputs], stddev=0.05))\n",
    "    #Initialize the biases to be zero for the fully connected layer\n",
    "    layer_bias = tf.Variable(tf.zeros(num_outputs))\n",
    "    # Define the layer's output\n",
    "    layer_output = tf.add(tf.matmul(x_tensor, layer_weigths), layer_bias)\n",
    "    return layer_output\n",
    "\n",
    "\n",
    "\"\"\"\n",
    "DON'T MODIFY ANYTHING IN THIS CELL THAT IS BELOW THIS LINE\n",
    "\"\"\"\n",
    "tests.test_output(output)"
   ]
  },
  {
   "cell_type": "markdown",
   "metadata": {},
   "source": [
    "### Create Convolutional Model\n",
    "Implement the function `conv_net` to create a convolutional neural network model. The function takes in a batch of images, `x`, and outputs logits.  Use the layers you created above to create this model:\n",
    "\n",
    "* Apply 1, 2, or 3 Convolution and Max Pool layers\n",
    "* Apply a Flatten Layer\n",
    "* Apply 1, 2, or 3 Fully Connected Layers\n",
    "* Apply an Output Layer\n",
    "* Return the output\n",
    "* Apply [TensorFlow's Dropout](https://www.tensorflow.org/api_docs/python/tf/nn/dropout) to one or more layers in the model using `keep_prob`. "
   ]
  },
  {
   "cell_type": "code",
   "execution_count": null,
   "metadata": {},
   "outputs": [],
   "source": [
    "def conv_net(x, keep_prob):\n",
    "    \"\"\"\n",
    "    Create a convolutional neural network model\n",
    "    : x: Placeholder tensor that holds image data.\n",
    "    : keep_prob: Placeholder tensor that hold dropout keep probability.\n",
    "    : return: Tensor that represents logits\n",
    "    \"\"\"\n",
    "    # TODO: Apply 1, 2, or 3 Convolution and Max Pool layers\n",
    "    #    Play around with different number of outputs, kernel size and stride\n",
    "    # Function Definition from Above:\n",
    "    #    conv2d_maxpool(x_tensor, conv_num_outputs, conv_ksize, conv_strides, pool_ksize, pool_strides)\n",
    "    \n",
    "\n",
    "    # TODO: Apply a Flatten Layer\n",
    "    # Function Definition from Above:\n",
    "    #   flatten(x_tensor)\n",
    "    \n",
    "\n",
    "    # TODO: Apply 1, 2, or 3 Fully Connected Layers\n",
    "    #    Play around with different number of outputs\n",
    "    # Function Definition from Above:\n",
    "    #   fully_conn(x_tensor, num_outputs)\n",
    "    \n",
    "    \n",
    "    # TODO: Apply an Output Layer\n",
    "    #    Set this to the number of classes\n",
    "    # Function Definition from Above:\n",
    "    #   output(x_tensor, num_outputs)\n",
    "    \n",
    "    \n",
    "    # TODO: return output\n",
    "    return None\n",
    "\n",
    "\n",
    "\"\"\"\n",
    "DON'T MODIFY ANYTHING IN THIS CELL THAT IS BELOW THIS LINE\n",
    "\"\"\"\n",
    "\n",
    "##############################\n",
    "## Build the Neural Network ##\n",
    "##############################\n",
    "\n",
    "# Remove previous weights, bias, inputs, etc..\n",
    "tf.reset_default_graph()\n",
    "\n",
    "# Inputs\n",
    "x = neural_net_image_input((32, 32, 3))\n",
    "y = neural_net_label_input(10)\n",
    "keep_prob = neural_net_keep_prob_input()\n",
    "\n",
    "# Model\n",
    "logits = conv_net(x, keep_prob)\n",
    "\n",
    "# Name logits Tensor, so that is can be loaded from disk after training\n",
    "logits = tf.identity(logits, name='logits')\n",
    "\n",
    "# Loss and Optimizer\n",
    "cost = tf.reduce_mean(tf.nn.softmax_cross_entropy_with_logits(logits=logits, labels=y))\n",
    "optimizer = tf.train.AdamOptimizer().minimize(cost)\n",
    "\n",
    "# Accuracy\n",
    "correct_pred = tf.equal(tf.argmax(logits, 1), tf.argmax(y, 1))\n",
    "accuracy = tf.reduce_mean(tf.cast(correct_pred, tf.float32), name='accuracy')\n",
    "\n",
    "tests.test_conv_net(conv_net)"
   ]
  },
  {
   "cell_type": "code",
   "execution_count": 23,
   "metadata": {},
   "outputs": [
    {
     "name": "stdout",
     "output_type": "stream",
     "text": [
      "Neural Network Built!\n"
     ]
    }
   ],
   "source": [
    "from math import ceil\n",
    "def conv_net(x, keep_prob):\n",
    "    \"\"\"\n",
    "    Create a convolutional neural network model\n",
    "    : x: Placeholder tensor that holds image data.\n",
    "    : keep_prob: Placeholder tensor that hold dropout keep probability.\n",
    "    : return: Tensor that represents logits\n",
    "    \"\"\"\n",
    "    # Define parameters for the first convolutional layer\n",
    "    first_conv_output = 32\n",
    "    first_conv_ksize = [4, 4]\n",
    "    first_conv_strides = [1, 1]\n",
    "    first_pool_ksize=[3, 3]\n",
    "    first_pool_strides = [2, 2]\n",
    "    \n",
    "    # Define parameters for the second convolutional layer\n",
    "    second_conv_output = 16\n",
    "    second_conv_ksize = [4, 4]\n",
    "    second_conv_strides = [1, 1]\n",
    "    second_pool_ksize=[3, 3]\n",
    "    second_pool_strides = [2, 2]\n",
    "    \n",
    "    # Parameters for the fully connected layers\n",
    "    fconnected_size_1 = 128\n",
    "    fconnected_size_2 = 64\n",
    "    \n",
    "    num_outputs = 10\n",
    "    \n",
    "    # First Layer\n",
    "    first_conv_layer = conv2d_maxpool(x, \n",
    "                                      first_conv_output, \n",
    "                                      first_conv_ksize, \n",
    "                                      first_conv_strides, \n",
    "                                      first_pool_ksize, \n",
    "                                      first_pool_strides)\n",
    "    # Second Layer\n",
    "    second_conv_layer = conv2d_maxpool(first_conv_layer, \n",
    "                                      second_conv_output, \n",
    "                                      second_conv_ksize, \n",
    "                                      second_conv_strides, \n",
    "                                      second_pool_ksize, \n",
    "                                      second_pool_strides)\n",
    "    \n",
    "    # Prepare for flattening\n",
    "    last_conv_layer = second_conv_layer\n",
    "    # Do flattening\n",
    "    flattened_layer = flatten(last_conv_layer)\n",
    "    # First fully connected layer\n",
    "    fully_connected_layer_1 = fully_conn(flattened_layer, fconnected_size_1)\n",
    "    # Second fully connected layer\n",
    "    fully_connected_layer_2 = fully_conn(fully_connected_layer_1, fconnected_size_2)\n",
    "    # Ouput layer\n",
    "    last_output = output(fully_connected_layer_1, num_outputs)\n",
    "    return last_output\n",
    "\n",
    "\n",
    "\"\"\"\n",
    "DON'T MODIFY ANYTHING IN THIS CELL THAT IS BELOW THIS LINE\n",
    "\"\"\"\n",
    "\n",
    "##############################\n",
    "## Build the Neural Network ##\n",
    "##############################\n",
    "\n",
    "# Remove previous weights, bias, inputs, etc..\n",
    "tf.reset_default_graph()\n",
    "\n",
    "# Inputs\n",
    "x = neural_net_image_input((32, 32, 3))\n",
    "y = neural_net_label_input(10)\n",
    "keep_prob = neural_net_keep_prob_input()\n",
    "\n",
    "# Model\n",
    "logits = conv_net(x, keep_prob)\n",
    "\n",
    "# Name logits Tensor, so that is can be loaded from disk after training\n",
    "logits = tf.identity(logits, name='logits')\n",
    "\n",
    "# Loss and Optimizer\n",
    "cost = tf.reduce_mean(tf.nn.softmax_cross_entropy_with_logits(logits=logits, labels=y))\n",
    "optimizer = tf.train.AdamOptimizer().minimize(cost)\n",
    "\n",
    "# Accuracy\n",
    "correct_pred = tf.equal(tf.argmax(logits, 1), tf.argmax(y, 1))\n",
    "accuracy = tf.reduce_mean(tf.cast(correct_pred, tf.float32), name='accuracy')\n",
    "\n",
    "tests.test_conv_net(conv_net)"
   ]
  },
  {
   "cell_type": "markdown",
   "metadata": {},
   "source": [
    "## Train the Neural Network\n",
    "### Single Optimization\n",
    "Implement the function `train_neural_network` to do a single optimization.  The optimization should use `optimizer` to optimize in `session` with a `feed_dict` of the following:\n",
    "* `x` for image input\n",
    "* `y` for labels\n",
    "* `keep_prob` for keep probability for dropout\n",
    "\n",
    "This function will be called for each batch, so `tf.global_variables_initializer()` has already been called.\n",
    "\n",
    "Note: Nothing needs to be returned. This function is only optimizing the neural network."
   ]
  },
  {
   "cell_type": "code",
   "execution_count": 25,
   "metadata": {},
   "outputs": [
    {
     "name": "stdout",
     "output_type": "stream",
     "text": [
      "Tests Passed\n"
     ]
    }
   ],
   "source": [
    "def train_neural_network(session, optimizer, keep_probability, feature_batch, label_batch):\n",
    "    \"\"\"\n",
    "    Optimize the session on a batch of images and labels\n",
    "    : session: Current TensorFlow session\n",
    "    : optimizer: TensorFlow optimizer function\n",
    "    : keep_probability: keep probability\n",
    "    : feature_batch: Batch of Numpy image data\n",
    "    : label_batch: Batch of Numpy label data\n",
    "    \"\"\"\n",
    "    # Create the feeding dictionary for trainning\n",
    "    f_dict = {x: feature_batch, y: label_batch, keep_prob: keep_probability}\n",
    "    session.run(optimizer, feed_dict=f_dict)\n",
    "\n",
    "\n",
    "\"\"\"\n",
    "DON'T MODIFY ANYTHING IN THIS CELL THAT IS BELOW THIS LINE\n",
    "\"\"\"\n",
    "tests.test_train_nn(train_neural_network)"
   ]
  },
  {
   "cell_type": "markdown",
   "metadata": {},
   "source": [
    "### Show Stats\n",
    "Implement the function `print_stats` to print loss and validation accuracy.  Use the global variables `valid_features` and `valid_labels` to calculate validation accuracy.  Use a keep probability of `1.0` to calculate the loss and validation accuracy."
   ]
  },
  {
   "cell_type": "code",
   "execution_count": 26,
   "metadata": {},
   "outputs": [],
   "source": [
    "def print_stats(session, feature_batch, label_batch, cost, accuracy):\n",
    "    \"\"\"\n",
    "    Print information about loss and validation accuracy\n",
    "    : session: Current TensorFlow session\n",
    "    : feature_batch: Batch of Numpy image data\n",
    "    : label_batch: Batch of Numpy label data\n",
    "    : cost: TensorFlow cost function\n",
    "    : accuracy: TensorFlow accuracy function\n",
    "    \"\"\"\n",
    "    pt_loss = session.run(cost,\n",
    "                       feed_dict={\n",
    "                           x: feature_batch, \n",
    "                           y: label_batch,\n",
    "                           keep_prob: 1.0})\n",
    "    \n",
    "    pt_accuracy= session.run(accuracy,\n",
    "                             feed_dict={\n",
    "                                 x: feature_batch, \n",
    "                                 y: label_batch,\n",
    "                                 keep_prob: 1.0})\n",
    "    \n",
    "    \n",
    "    pv_loss = session.run(cost,\n",
    "                          feed_dict={\n",
    "                              x: valid_features,\n",
    "                              y: valid_labels,\n",
    "                              keep_prob: 1.0})\n",
    "    \n",
    "    pv_accuracy = session.run(accuracy,\n",
    "                       feed_dict={\n",
    "                           x: valid_features, \n",
    "                           y: valid_labels,\n",
    "                           keep_prob: 1.0})\n",
    "    print('Tr Loss/Acc: {:0.4f}/{:0.4f} and Val Loss/Acc {:0.4f}/{:0.4f}'.format(pt_loss, pt_accuracy, pv_loss, pv_accuracy))"
   ]
  },
  {
   "cell_type": "markdown",
   "metadata": {},
   "source": [
    "### Hyperparameters\n",
    "Tune the following parameters:\n",
    "* Set `epochs` to the number of iterations until the network stops learning or start overfitting\n",
    "* Set `batch_size` to the highest number that your machine has memory for.  Most people set them to common sizes of memory:\n",
    " * 64\n",
    " * 128\n",
    " * 256\n",
    " * ...\n",
    "* Set `keep_probability` to the probability of keeping a node using dropout"
   ]
  },
  {
   "cell_type": "code",
   "execution_count": 27,
   "metadata": {},
   "outputs": [],
   "source": [
    "# TODO: Tune Parameters\n",
    "epochs = 20\n",
    "batch_size = 256\n",
    "keep_probability = 0.5"
   ]
  },
  {
   "cell_type": "markdown",
   "metadata": {},
   "source": [
    "### Train on a Single CIFAR-10 Batch\n",
    "Instead of training the neural network on all the CIFAR-10 batches of data, let's use a single batch. This should save time while you iterate on the model to get a better accuracy.  Once the final validation accuracy is 50% or greater, run the model on all the data in the next section."
   ]
  },
  {
   "cell_type": "code",
   "execution_count": 28,
   "metadata": {},
   "outputs": [
    {
     "name": "stdout",
     "output_type": "stream",
     "text": [
      "Checking the Training on a Single Batch...\n",
      "Epoch  1, CIFAR-10 Batch 1:  Tr Loss/Acc: 2.1155/0.2500 and Val Loss/Acc 1.9390/0.3042\n",
      "Epoch  2, CIFAR-10 Batch 1:  Tr Loss/Acc: 1.9270/0.2500 and Val Loss/Acc 1.7340/0.3820\n",
      "Epoch  3, CIFAR-10 Batch 1:  Tr Loss/Acc: 1.7915/0.3750 and Val Loss/Acc 1.6256/0.4216\n",
      "Epoch  4, CIFAR-10 Batch 1:  Tr Loss/Acc: 1.6894/0.4500 and Val Loss/Acc 1.5222/0.4534\n",
      "Epoch  5, CIFAR-10 Batch 1:  Tr Loss/Acc: 1.5775/0.4500 and Val Loss/Acc 1.4899/0.4652\n",
      "Epoch  6, CIFAR-10 Batch 1:  Tr Loss/Acc: 1.4951/0.4500 and Val Loss/Acc 1.4642/0.4786\n",
      "Epoch  7, CIFAR-10 Batch 1:  Tr Loss/Acc: 1.3970/0.4500 and Val Loss/Acc 1.4375/0.4866\n",
      "Epoch  8, CIFAR-10 Batch 1:  Tr Loss/Acc: 1.3134/0.5250 and Val Loss/Acc 1.4164/0.4974\n",
      "Epoch  9, CIFAR-10 Batch 1:  Tr Loss/Acc: 1.2373/0.6250 and Val Loss/Acc 1.3992/0.5034\n",
      "Epoch 10, CIFAR-10 Batch 1:  Tr Loss/Acc: 1.1706/0.6250 and Val Loss/Acc 1.3812/0.5110\n",
      "Epoch 11, CIFAR-10 Batch 1:  Tr Loss/Acc: 1.1088/0.6750 and Val Loss/Acc 1.3642/0.5192\n",
      "Epoch 12, CIFAR-10 Batch 1:  Tr Loss/Acc: 1.0476/0.6750 and Val Loss/Acc 1.3440/0.5262\n",
      "Epoch 13, CIFAR-10 Batch 1:  Tr Loss/Acc: 0.9911/0.7000 and Val Loss/Acc 1.3304/0.5286\n",
      "Epoch 14, CIFAR-10 Batch 1:  Tr Loss/Acc: 0.9322/0.7250 and Val Loss/Acc 1.3154/0.5342\n",
      "Epoch 15, CIFAR-10 Batch 1:  Tr Loss/Acc: 0.8838/0.7250 and Val Loss/Acc 1.3036/0.5410\n",
      "Epoch 16, CIFAR-10 Batch 1:  Tr Loss/Acc: 0.8363/0.7000 and Val Loss/Acc 1.2933/0.5436\n",
      "Epoch 17, CIFAR-10 Batch 1:  Tr Loss/Acc: 0.7933/0.7000 and Val Loss/Acc 1.2871/0.5454\n",
      "Epoch 18, CIFAR-10 Batch 1:  Tr Loss/Acc: 0.7483/0.7250 and Val Loss/Acc 1.2892/0.5454\n",
      "Epoch 19, CIFAR-10 Batch 1:  Tr Loss/Acc: 0.7114/0.7500 and Val Loss/Acc 1.2955/0.5456\n",
      "Epoch 20, CIFAR-10 Batch 1:  Tr Loss/Acc: 0.6786/0.7750 and Val Loss/Acc 1.3123/0.5410\n"
     ]
    }
   ],
   "source": [
    "\"\"\"\n",
    "DON'T MODIFY ANYTHING IN THIS CELL\n",
    "\"\"\"\n",
    "print('Checking the Training on a Single Batch...')\n",
    "with tf.Session() as sess:\n",
    "    # Initializing the variables\n",
    "    sess.run(tf.global_variables_initializer())\n",
    "    \n",
    "    # Training cycle\n",
    "    for epoch in range(epochs):\n",
    "        batch_i = 1\n",
    "        for batch_features, batch_labels in helper.load_preprocess_training_batch(batch_i, batch_size):\n",
    "            train_neural_network(sess, optimizer, keep_probability, batch_features, batch_labels)\n",
    "        print('Epoch {:>2}, CIFAR-10 Batch {}:  '.format(epoch + 1, batch_i), end='')\n",
    "        print_stats(sess, batch_features, batch_labels, cost, accuracy)"
   ]
  },
  {
   "cell_type": "markdown",
   "metadata": {},
   "source": [
    "### Fully Train the Model\n",
    "Now that you got a good accuracy with a single CIFAR-10 batch, try it with all five batches."
   ]
  },
  {
   "cell_type": "code",
   "execution_count": 29,
   "metadata": {},
   "outputs": [
    {
     "name": "stdout",
     "output_type": "stream",
     "text": [
      "Training...\n",
      "Epoch  1, CIFAR-10 Batch 1:  Tr Loss/Acc: 2.1079/0.2000 and Val Loss/Acc 1.9656/0.3030\n",
      "Epoch  1, CIFAR-10 Batch 2:  Tr Loss/Acc: 1.8352/0.3750 and Val Loss/Acc 1.7335/0.3580\n",
      "Epoch  1, CIFAR-10 Batch 3:  Tr Loss/Acc: 1.4866/0.5250 and Val Loss/Acc 1.6430/0.3960\n",
      "Epoch  1, CIFAR-10 Batch 4:  Tr Loss/Acc: 1.6089/0.2500 and Val Loss/Acc 1.5434/0.4348\n",
      "Epoch  1, CIFAR-10 Batch 5:  Tr Loss/Acc: 1.4447/0.5250 and Val Loss/Acc 1.5055/0.4464\n",
      "Epoch  2, CIFAR-10 Batch 1:  Tr Loss/Acc: 1.6852/0.3500 and Val Loss/Acc 1.5011/0.4586\n",
      "Epoch  2, CIFAR-10 Batch 2:  Tr Loss/Acc: 1.5907/0.4500 and Val Loss/Acc 1.4616/0.4640\n",
      "Epoch  2, CIFAR-10 Batch 3:  Tr Loss/Acc: 1.2009/0.6500 and Val Loss/Acc 1.4405/0.4770\n",
      "Epoch  2, CIFAR-10 Batch 4:  Tr Loss/Acc: 1.3813/0.5500 and Val Loss/Acc 1.3998/0.4898\n",
      "Epoch  2, CIFAR-10 Batch 5:  Tr Loss/Acc: 1.3467/0.5750 and Val Loss/Acc 1.3722/0.5054\n",
      "Epoch  3, CIFAR-10 Batch 1:  Tr Loss/Acc: 1.4743/0.5000 and Val Loss/Acc 1.3464/0.5258\n",
      "Epoch  3, CIFAR-10 Batch 2:  Tr Loss/Acc: 1.3910/0.5000 and Val Loss/Acc 1.3280/0.5270\n",
      "Epoch  3, CIFAR-10 Batch 3:  Tr Loss/Acc: 0.9830/0.6750 and Val Loss/Acc 1.3430/0.5206\n",
      "Epoch  3, CIFAR-10 Batch 4:  Tr Loss/Acc: 1.1940/0.5500 and Val Loss/Acc 1.3088/0.5362\n",
      "Epoch  3, CIFAR-10 Batch 5:  Tr Loss/Acc: 1.2319/0.5250 and Val Loss/Acc 1.2445/0.5582\n",
      "Epoch  4, CIFAR-10 Batch 1:  Tr Loss/Acc: 1.3257/0.5500 and Val Loss/Acc 1.2673/0.5500\n",
      "Epoch  4, CIFAR-10 Batch 2:  Tr Loss/Acc: 1.2153/0.6250 and Val Loss/Acc 1.2328/0.5644\n",
      "Epoch  4, CIFAR-10 Batch 3:  Tr Loss/Acc: 0.8485/0.7750 and Val Loss/Acc 1.2726/0.5498\n",
      "Epoch  4, CIFAR-10 Batch 4:  Tr Loss/Acc: 1.0014/0.6750 and Val Loss/Acc 1.2023/0.5776\n",
      "Epoch  4, CIFAR-10 Batch 5:  Tr Loss/Acc: 1.1398/0.5500 and Val Loss/Acc 1.1911/0.5814\n",
      "Epoch  5, CIFAR-10 Batch 1:  Tr Loss/Acc: 1.1543/0.6000 and Val Loss/Acc 1.2131/0.5754\n",
      "Epoch  5, CIFAR-10 Batch 2:  Tr Loss/Acc: 1.0929/0.6250 and Val Loss/Acc 1.1434/0.5998\n",
      "Epoch  5, CIFAR-10 Batch 3:  Tr Loss/Acc: 0.7577/0.8000 and Val Loss/Acc 1.2273/0.5690\n",
      "Epoch  5, CIFAR-10 Batch 4:  Tr Loss/Acc: 0.9448/0.6250 and Val Loss/Acc 1.1064/0.6096\n",
      "Epoch  5, CIFAR-10 Batch 5:  Tr Loss/Acc: 1.0116/0.6000 and Val Loss/Acc 1.1355/0.6076\n",
      "Epoch  6, CIFAR-10 Batch 1:  Tr Loss/Acc: 1.0139/0.6000 and Val Loss/Acc 1.1385/0.6014\n",
      "Epoch  6, CIFAR-10 Batch 2:  Tr Loss/Acc: 0.9728/0.6500 and Val Loss/Acc 1.0870/0.6196\n",
      "Epoch  6, CIFAR-10 Batch 3:  Tr Loss/Acc: 0.6712/0.8250 and Val Loss/Acc 1.1525/0.5942\n",
      "Epoch  6, CIFAR-10 Batch 4:  Tr Loss/Acc: 0.8865/0.6750 and Val Loss/Acc 1.0582/0.6296\n",
      "Epoch  6, CIFAR-10 Batch 5:  Tr Loss/Acc: 0.9055/0.6750 and Val Loss/Acc 1.0845/0.6266\n",
      "Epoch  7, CIFAR-10 Batch 1:  Tr Loss/Acc: 0.8849/0.6250 and Val Loss/Acc 1.1011/0.6140\n",
      "Epoch  7, CIFAR-10 Batch 2:  Tr Loss/Acc: 0.8884/0.7000 and Val Loss/Acc 1.0593/0.6256\n",
      "Epoch  7, CIFAR-10 Batch 3:  Tr Loss/Acc: 0.5914/0.8250 and Val Loss/Acc 1.0884/0.6196\n",
      "Epoch  7, CIFAR-10 Batch 4:  Tr Loss/Acc: 0.8371/0.7250 and Val Loss/Acc 1.0368/0.6342\n",
      "Epoch  7, CIFAR-10 Batch 5:  Tr Loss/Acc: 0.8247/0.7500 and Val Loss/Acc 1.0535/0.6328\n",
      "Epoch  8, CIFAR-10 Batch 1:  Tr Loss/Acc: 0.7991/0.7000 and Val Loss/Acc 1.0591/0.6302\n",
      "Epoch  8, CIFAR-10 Batch 2:  Tr Loss/Acc: 0.8172/0.8000 and Val Loss/Acc 1.0348/0.6412\n",
      "Epoch  8, CIFAR-10 Batch 3:  Tr Loss/Acc: 0.5300/0.9000 and Val Loss/Acc 1.0485/0.6336\n",
      "Epoch  8, CIFAR-10 Batch 4:  Tr Loss/Acc: 0.7890/0.7500 and Val Loss/Acc 1.0060/0.6432\n",
      "Epoch  8, CIFAR-10 Batch 5:  Tr Loss/Acc: 0.7468/0.7500 and Val Loss/Acc 1.0132/0.6442\n",
      "Epoch  9, CIFAR-10 Batch 1:  Tr Loss/Acc: 0.6879/0.7500 and Val Loss/Acc 1.0267/0.6402\n",
      "Epoch  9, CIFAR-10 Batch 2:  Tr Loss/Acc: 0.7536/0.7750 and Val Loss/Acc 1.0165/0.6472\n",
      "Epoch  9, CIFAR-10 Batch 3:  Tr Loss/Acc: 0.4592/0.9000 and Val Loss/Acc 0.9963/0.6510\n",
      "Epoch  9, CIFAR-10 Batch 4:  Tr Loss/Acc: 0.7253/0.7500 and Val Loss/Acc 0.9784/0.6524\n",
      "Epoch  9, CIFAR-10 Batch 5:  Tr Loss/Acc: 0.6700/0.8500 and Val Loss/Acc 0.9784/0.6584\n",
      "Epoch 10, CIFAR-10 Batch 1:  Tr Loss/Acc: 0.6094/0.7750 and Val Loss/Acc 1.0021/0.6456\n",
      "Epoch 10, CIFAR-10 Batch 2:  Tr Loss/Acc: 0.6812/0.7750 and Val Loss/Acc 0.9906/0.6548\n",
      "Epoch 10, CIFAR-10 Batch 3:  Tr Loss/Acc: 0.4181/0.9000 and Val Loss/Acc 0.9629/0.6630\n",
      "Epoch 10, CIFAR-10 Batch 4:  Tr Loss/Acc: 0.6851/0.7750 and Val Loss/Acc 0.9646/0.6610\n",
      "Epoch 10, CIFAR-10 Batch 5:  Tr Loss/Acc: 0.6218/0.8250 and Val Loss/Acc 0.9727/0.6604\n",
      "Epoch 11, CIFAR-10 Batch 1:  Tr Loss/Acc: 0.5628/0.8000 and Val Loss/Acc 0.9753/0.6580\n",
      "Epoch 11, CIFAR-10 Batch 2:  Tr Loss/Acc: 0.6211/0.8000 and Val Loss/Acc 0.9708/0.6600\n",
      "Epoch 11, CIFAR-10 Batch 3:  Tr Loss/Acc: 0.3845/0.9000 and Val Loss/Acc 0.9465/0.6696\n",
      "Epoch 11, CIFAR-10 Batch 4:  Tr Loss/Acc: 0.6493/0.7500 and Val Loss/Acc 0.9551/0.6620\n",
      "Epoch 11, CIFAR-10 Batch 5:  Tr Loss/Acc: 0.5626/0.8750 and Val Loss/Acc 0.9510/0.6694\n",
      "Epoch 12, CIFAR-10 Batch 1:  Tr Loss/Acc: 0.5147/0.8250 and Val Loss/Acc 0.9727/0.6602\n",
      "Epoch 12, CIFAR-10 Batch 2:  Tr Loss/Acc: 0.5717/0.8250 and Val Loss/Acc 0.9594/0.6654\n",
      "Epoch 12, CIFAR-10 Batch 3:  Tr Loss/Acc: 0.3567/0.9250 and Val Loss/Acc 0.9399/0.6762\n",
      "Epoch 12, CIFAR-10 Batch 4:  Tr Loss/Acc: 0.6122/0.8000 and Val Loss/Acc 0.9490/0.6664\n",
      "Epoch 12, CIFAR-10 Batch 5:  Tr Loss/Acc: 0.5051/0.9250 and Val Loss/Acc 0.9357/0.6726\n",
      "Epoch 13, CIFAR-10 Batch 1:  Tr Loss/Acc: 0.4722/0.8500 and Val Loss/Acc 0.9750/0.6570\n",
      "Epoch 13, CIFAR-10 Batch 2:  Tr Loss/Acc: 0.5182/0.8250 and Val Loss/Acc 0.9634/0.6658\n",
      "Epoch 13, CIFAR-10 Batch 3:  Tr Loss/Acc: 0.3371/0.9250 and Val Loss/Acc 0.9304/0.6782\n",
      "Epoch 13, CIFAR-10 Batch 4:  Tr Loss/Acc: 0.5517/0.8000 and Val Loss/Acc 0.9250/0.6784\n",
      "Epoch 13, CIFAR-10 Batch 5:  Tr Loss/Acc: 0.4678/0.9250 and Val Loss/Acc 0.9260/0.6770\n",
      "Epoch 14, CIFAR-10 Batch 1:  Tr Loss/Acc: 0.4367/0.9000 and Val Loss/Acc 0.9689/0.6602\n",
      "Epoch 14, CIFAR-10 Batch 2:  Tr Loss/Acc: 0.4814/0.8500 and Val Loss/Acc 0.9614/0.6678\n",
      "Epoch 14, CIFAR-10 Batch 3:  Tr Loss/Acc: 0.3135/0.9250 and Val Loss/Acc 0.9052/0.6880\n",
      "Epoch 14, CIFAR-10 Batch 4:  Tr Loss/Acc: 0.5005/0.8000 and Val Loss/Acc 0.9100/0.6834\n",
      "Epoch 14, CIFAR-10 Batch 5:  Tr Loss/Acc: 0.4287/0.9250 and Val Loss/Acc 0.9138/0.6778\n",
      "Epoch 15, CIFAR-10 Batch 1:  Tr Loss/Acc: 0.3930/0.9000 and Val Loss/Acc 0.9604/0.6634\n",
      "Epoch 15, CIFAR-10 Batch 2:  Tr Loss/Acc: 0.4377/0.9000 and Val Loss/Acc 0.9411/0.6736\n",
      "Epoch 15, CIFAR-10 Batch 3:  Tr Loss/Acc: 0.2927/0.9250 and Val Loss/Acc 0.8861/0.6926\n",
      "Epoch 15, CIFAR-10 Batch 4:  Tr Loss/Acc: 0.4551/0.8250 and Val Loss/Acc 0.8943/0.6890\n",
      "Epoch 15, CIFAR-10 Batch 5:  Tr Loss/Acc: 0.3907/0.9250 and Val Loss/Acc 0.9013/0.6862\n",
      "Epoch 16, CIFAR-10 Batch 1:  Tr Loss/Acc: 0.3732/0.9000 and Val Loss/Acc 0.9520/0.6672\n",
      "Epoch 16, CIFAR-10 Batch 2:  Tr Loss/Acc: 0.3972/0.9000 and Val Loss/Acc 0.9311/0.6798\n",
      "Epoch 16, CIFAR-10 Batch 3:  Tr Loss/Acc: 0.2655/0.9250 and Val Loss/Acc 0.8746/0.6970\n",
      "Epoch 16, CIFAR-10 Batch 4:  Tr Loss/Acc: 0.4140/0.8250 and Val Loss/Acc 0.8812/0.6906\n",
      "Epoch 16, CIFAR-10 Batch 5:  Tr Loss/Acc: 0.3684/0.9750 and Val Loss/Acc 0.8879/0.6920\n",
      "Epoch 17, CIFAR-10 Batch 1:  Tr Loss/Acc: 0.3533/0.9250 and Val Loss/Acc 0.9394/0.6716\n",
      "Epoch 17, CIFAR-10 Batch 2:  Tr Loss/Acc: 0.3833/0.9000 and Val Loss/Acc 0.9238/0.6820\n",
      "Epoch 17, CIFAR-10 Batch 3:  Tr Loss/Acc: 0.2473/0.9500 and Val Loss/Acc 0.8810/0.6952\n",
      "Epoch 17, CIFAR-10 Batch 4:  Tr Loss/Acc: 0.3938/0.8750 and Val Loss/Acc 0.8827/0.6914\n",
      "Epoch 17, CIFAR-10 Batch 5:  Tr Loss/Acc: 0.3335/0.9750 and Val Loss/Acc 0.8689/0.6976\n",
      "Epoch 18, CIFAR-10 Batch 1:  Tr Loss/Acc: 0.3203/0.9250 and Val Loss/Acc 0.9209/0.6810\n",
      "Epoch 18, CIFAR-10 Batch 2:  Tr Loss/Acc: 0.3510/0.9250 and Val Loss/Acc 0.9283/0.6844\n",
      "Epoch 18, CIFAR-10 Batch 3:  Tr Loss/Acc: 0.2239/0.9750 and Val Loss/Acc 0.8771/0.6980\n",
      "Epoch 18, CIFAR-10 Batch 4:  Tr Loss/Acc: 0.3637/0.8750 and Val Loss/Acc 0.8815/0.6922\n",
      "Epoch 18, CIFAR-10 Batch 5:  Tr Loss/Acc: 0.3115/0.9750 and Val Loss/Acc 0.8615/0.6996\n",
      "Epoch 19, CIFAR-10 Batch 1:  Tr Loss/Acc: 0.2917/0.9250 and Val Loss/Acc 0.9143/0.6832\n",
      "Epoch 19, CIFAR-10 Batch 2:  Tr Loss/Acc: 0.3131/0.9500 and Val Loss/Acc 0.9179/0.6842\n",
      "Epoch 19, CIFAR-10 Batch 3:  Tr Loss/Acc: 0.2115/0.9750 and Val Loss/Acc 0.8708/0.7012\n",
      "Epoch 19, CIFAR-10 Batch 4:  Tr Loss/Acc: 0.3305/0.9500 and Val Loss/Acc 0.8788/0.6896\n"
     ]
    },
    {
     "name": "stdout",
     "output_type": "stream",
     "text": [
      "Epoch 19, CIFAR-10 Batch 5:  Tr Loss/Acc: 0.2908/0.9750 and Val Loss/Acc 0.8562/0.7016\n",
      "Epoch 20, CIFAR-10 Batch 1:  Tr Loss/Acc: 0.2645/0.9750 and Val Loss/Acc 0.9140/0.6862\n",
      "Epoch 20, CIFAR-10 Batch 2:  Tr Loss/Acc: 0.2873/0.9500 and Val Loss/Acc 0.9133/0.6852\n",
      "Epoch 20, CIFAR-10 Batch 3:  Tr Loss/Acc: 0.1974/1.0000 and Val Loss/Acc 0.8741/0.6994\n",
      "Epoch 20, CIFAR-10 Batch 4:  Tr Loss/Acc: 0.2982/0.9500 and Val Loss/Acc 0.8739/0.6928\n",
      "Epoch 20, CIFAR-10 Batch 5:  Tr Loss/Acc: 0.2690/0.9750 and Val Loss/Acc 0.8510/0.7086\n"
     ]
    }
   ],
   "source": [
    "\"\"\"\n",
    "DON'T MODIFY ANYTHING IN THIS CELL\n",
    "\"\"\"\n",
    "save_model_path = './image_classification'\n",
    "\n",
    "print('Training...')\n",
    "with tf.Session() as sess:\n",
    "    # Initializing the variables\n",
    "    sess.run(tf.global_variables_initializer())\n",
    "    \n",
    "    # Training cycle\n",
    "    for epoch in range(epochs):\n",
    "        # Loop over all batches\n",
    "        n_batches = 5\n",
    "        for batch_i in range(1, n_batches + 1):\n",
    "            for batch_features, batch_labels in helper.load_preprocess_training_batch(batch_i, batch_size):\n",
    "                train_neural_network(sess, optimizer, keep_probability, batch_features, batch_labels)\n",
    "            print('Epoch {:>2}, CIFAR-10 Batch {}:  '.format(epoch + 1, batch_i), end='')\n",
    "            print_stats(sess, batch_features, batch_labels, cost, accuracy)\n",
    "            \n",
    "    # Save Model\n",
    "    saver = tf.train.Saver()\n",
    "    save_path = saver.save(sess, save_model_path)"
   ]
  },
  {
   "cell_type": "markdown",
   "metadata": {},
   "source": [
    "# Checkpoint\n",
    "The model has been saved to disk.\n",
    "## Test Model\n",
    "Test your model against the test dataset.  This will be your final accuracy. You should have an accuracy greater than 50%. If you don't, keep tweaking the model architecture and parameters."
   ]
  },
  {
   "cell_type": "code",
   "execution_count": 30,
   "metadata": {},
   "outputs": [
    {
     "name": "stdout",
     "output_type": "stream",
     "text": [
      "INFO:tensorflow:Restoring parameters from ./image_classification\n",
      "Testing Accuracy: 0.7021484375\n",
      "\n"
     ]
    },
    {
     "data": {
      "image/png": "[encoded data removed]",
      "text/plain": [
       "<Figure size 432x288 with 8 Axes>"
      ]
     },
     "metadata": {
      "image/png": {
       "height": 319,
       "width": 341
      },
      "needs_background": "light"
     },
     "output_type": "display_data"
    }
   ],
   "source": [
    "\"\"\"\n",
    "DON'T MODIFY ANYTHING IN THIS CELL\n",
    "\"\"\"\n",
    "%matplotlib inline\n",
    "%config InlineBackend.figure_format = 'retina'\n",
    "\n",
    "import tensorflow as tf\n",
    "import pickle\n",
    "import helper\n",
    "import random\n",
    "\n",
    "# Set batch size if not already set\n",
    "try:\n",
    "    if batch_size:\n",
    "        pass\n",
    "except NameError:\n",
    "    batch_size = 64\n",
    "\n",
    "save_model_path = './image_classification'\n",
    "n_samples = 4\n",
    "top_n_predictions = 3\n",
    "\n",
    "def test_model():\n",
    "    \"\"\"\n",
    "    Test the saved model against the test dataset\n",
    "    \"\"\"\n",
    "\n",
    "    test_features, test_labels = pickle.load(open('preprocess_test.p', mode='rb'))\n",
    "    loaded_graph = tf.Graph()\n",
    "\n",
    "    with tf.Session(graph=loaded_graph) as sess:\n",
    "        # Load model\n",
    "        loader = tf.train.import_meta_graph(save_model_path + '.meta')\n",
    "        loader.restore(sess, save_model_path)\n",
    "\n",
    "        # Get Tensors from loaded model\n",
    "        loaded_x = loaded_graph.get_tensor_by_name('x:0')\n",
    "        loaded_y = loaded_graph.get_tensor_by_name('y:0')\n",
    "        loaded_keep_prob = loaded_graph.get_tensor_by_name('keep_prob:0')\n",
    "        loaded_logits = loaded_graph.get_tensor_by_name('logits:0')\n",
    "        loaded_acc = loaded_graph.get_tensor_by_name('accuracy:0')\n",
    "        \n",
    "        # Get accuracy in batches for memory limitations\n",
    "        test_batch_acc_total = 0\n",
    "        test_batch_count = 0\n",
    "        \n",
    "        for test_feature_batch, test_label_batch in helper.batch_features_labels(test_features, test_labels, batch_size):\n",
    "            test_batch_acc_total += sess.run(\n",
    "                loaded_acc,\n",
    "                feed_dict={loaded_x: test_feature_batch, loaded_y: test_label_batch, loaded_keep_prob: 1.0})\n",
    "            test_batch_count += 1\n",
    "\n",
    "        print('Testing Accuracy: {}\\n'.format(test_batch_acc_total/test_batch_count))\n",
    "\n",
    "        # Print Random Samples\n",
    "        random_test_features, random_test_labels = tuple(zip(*random.sample(list(zip(test_features, test_labels)), n_samples)))\n",
    "        random_test_predictions = sess.run(\n",
    "            tf.nn.top_k(tf.nn.softmax(loaded_logits), top_n_predictions),\n",
    "            feed_dict={loaded_x: random_test_features, loaded_y: random_test_labels, loaded_keep_prob: 1.0})\n",
    "        helper.display_image_predictions(random_test_features, random_test_labels, random_test_predictions)\n",
    "\n",
    "\n",
    "test_model()"
   ]
  },
  {
   "cell_type": "markdown",
   "metadata": {},
   "source": [
    "## Why 50-80% Accuracy?\n",
    "You might be wondering why you can't get an accuracy any higher. First things first, 50% isn't bad for a simple CNN.  Pure guessing would get you 10% accuracy. However, you might notice people are getting scores [well above 80%](http://rodrigob.github.io/are_we_there_yet/build/classification_datasets_results.html#43494641522d3130).  That's because we haven't taught you all there is to know about neural networks. We still need to cover a few more techniques.\n",
    "## Submitting This Project\n",
    "When submitting this project, make sure to run all the cells before saving the notebook.  Save the notebook file as \"dlnd_image_classification.ipynb\" and save it as a HTML file under \"File\" -> \"Download as\".  Include the \"helper.py\" and \"problem_unittests.py\" files in your submission."
   ]
  }
 ],
 "metadata": {
  "kernelspec": {
   "display_name": "Python 3",
   "language": "python",
   "name": "python3"
  },
  "language_info": {
   "codemirror_mode": {
    "name": "ipython",
    "version": 3
   },
   "file_extension": ".py",
   "mimetype": "text/x-python",
   "name": "python",
   "nbconvert_exporter": "python",
   "pygments_lexer": "ipython3",
   "version": "3.6.13"
  }
 },
 "nbformat": 4,
 "nbformat_minor": 1
}
